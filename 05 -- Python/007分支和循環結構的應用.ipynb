{
 "metadata": {
  "language_info": {
   "codemirror_mode": {
    "name": "ipython",
    "version": 3
   },
   "file_extension": ".py",
   "mimetype": "text/x-python",
   "name": "python",
   "nbconvert_exporter": "python",
   "pygments_lexer": "ipython3",
   "version": "3.7.3-final"
  },
  "orig_nbformat": 2,
  "kernelspec": {
   "name": "Python 3.7.3 64-bit ('base': conda)",
   "display_name": "Python 3.7.3 64-bit ('base': conda)",
   "metadata": {
    "interpreter": {
     "hash": "398dc28c06ad810e77de546bbdfa897a6ee0b83e59a5207339dda01a7843e01d"
    }
   }
  }
 },
 "nbformat": 4,
 "nbformat_minor": 2,
 "cells": [
  {
   "cell_type": "code",
   "execution_count": 1,
   "metadata": {},
   "outputs": [],
   "source": [
    "# 第007課: 分支和循環結構的應用\n",
    "\n",
    "### 看懂別人的代碼很容易，但自己寫出同樣的代碼缺很困難。練習量要達到才能隨心所欲的寫出代碼。"
   ]
  },
  {
   "cell_type": "code",
   "execution_count": 3,
   "metadata": {},
   "outputs": [
    {
     "output_type": "stream",
     "name": "stdout",
     "text": [
      "153\n370\n371\n407\n"
     ]
    }
   ],
   "source": [
    "## 例子1: 尋找水仙花數\n",
    "\n",
    "### 水仙花數也被稱為超完全數字不變數、自戀數、自冪數、阿姆斯特朗數，它是一個3位數，該數字每個位上數字的立方之後正好等於它本身。\n",
    "### 這個題目的關鍵是將一個三位數拆分為個位、十位、百位，利用 Python 中的 //（整除）和 %（求模）運算符很容易做到\n",
    "### 取模運算: 計算兩個數相除之後的餘數，符號是%\n",
    "\"\"\"\n",
    "找出所有水仙花數\n",
    "\"\"\"\n",
    "for num in range(100,1000):\n",
    "    low = num % 10\n",
    "    mid = num // 10 % 10\n",
    "    high = num // 100\n",
    "    if num == low ** 3 + mid ** 3 + high ** 3:\n",
    "        print(num)"
   ]
  },
  {
   "cell_type": "code",
   "execution_count": 9,
   "metadata": {},
   "outputs": [
    {
     "output_type": "stream",
     "name": "stdout",
     "text": [
      "你的反轉結果是960900916\n"
     ]
    }
   ],
   "source": [
    "### 上面利用 // 和 % 拆分一個數的小技巧在寫代碼的時候還是很常用的。我們要將一個不知道有多少位的正整數進行反轉，例如將 12345 變成 54321，也可以利用這兩個運算來實現\n",
    "\"\"\"\n",
    "正整數反轉\n",
    "\"\"\"\n",
    "num = int(input('num= '))\n",
    "reversed_num = 0\n",
    "while num > 0:\n",
    "    reversed_num = reversed_num * 10 + num % 10\n",
    "    num //= 10\n",
    "print(f'你的反轉結果是{reversed_num}')"
   ]
  },
  {
   "cell_type": "code",
   "execution_count": 12,
   "metadata": {},
   "outputs": [
    {
     "output_type": "stream",
     "name": "stdout",
     "text": [
      "公雞:0隻，母雞:25隻，小雞:75隻，\n公雞:4隻，母雞:18隻，小雞:78隻，\n公雞:8隻，母雞:11隻，小雞:81隻，\n公雞:12隻，母雞:4隻，小雞:84隻，\n"
     ]
    }
   ],
   "source": [
    "## 例子2: 百錢百機的問題\n",
    "\n",
    "### 百錢百雞是我國古代數學家張丘建在《算經》一書中提出的數學問題：雞翁一值錢五，雞母一值錢三，雞雛三值錢一。百錢買百雞，問雞翁、雞母、雞雛各幾何？\n",
    "### 公雞 5 元一隻，母雞 3 元一隻，小雞 1 元三隻，用 100 塊錢買一百隻雞，問公雞、母雞、小雞各有多少隻？\n",
    "\"\"\"\n",
    "《百錢百雞》問題\n",
    "\"\"\"\n",
    "# 假設公雞的數量為 x, x 的取值範圍是 0 到 20\n",
    "for x in range(0, 21):\n",
    "    # 假設母雞的數量為 y, y 的取值範圍是 0 到 33\n",
    "        for y in range(0,34):\n",
    "            z = 100 - x - y\n",
    "            if 5 * x + 3 * y + z // 3 == 100 and z % 3 == 0:\n",
    "                print(f'公雞:{x}隻，母雞:{y}隻，小雞:{z}隻，')\n",
    "\n",
    "### 上面使用的方法叫做 窮舉法，也成為暴力搜索法，這種方法通過一項一項的舉例備選解決方案中所有可能的後選項並檢查每個後選項是否符號問題的描述，最終得到問題的解。這種方法看起來笨拙，但是對於運算能力非常強大的計算機來說，通常都是一個可行甚至是不錯的選擇，只要問題的解答存在就能夠找到它。"
   ]
  },
  {
   "cell_type": "code",
   "execution_count": null,
   "metadata": {},
   "outputs": [],
   "source": []
  }
 ]
}