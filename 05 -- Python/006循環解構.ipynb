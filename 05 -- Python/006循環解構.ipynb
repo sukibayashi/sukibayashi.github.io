{
 "metadata": {
  "language_info": {
   "codemirror_mode": {
    "name": "ipython",
    "version": 3
   },
   "file_extension": ".py",
   "mimetype": "text/x-python",
   "name": "python",
   "nbconvert_exporter": "python",
   "pygments_lexer": "ipython3",
   "version": "3.7.3-final"
  },
  "orig_nbformat": 2,
  "kernelspec": {
   "name": "Python 3.7.3 64-bit ('base': conda)",
   "display_name": "Python 3.7.3 64-bit ('base': conda)",
   "metadata": {
    "interpreter": {
     "hash": "398dc28c06ad810e77de546bbdfa897a6ee0b83e59a5207339dda01a7843e01d"
    }
   }
  }
 },
 "nbformat": 4,
 "nbformat_minor": 2,
 "cells": [
  {
   "cell_type": "code",
   "execution_count": 1,
   "metadata": {},
   "outputs": [],
   "source": [
    "# 第006課：循環結構\n",
    "\n",
    "## 應用場景\n",
    "### 循環結構就是程序中控制某條或某些指令重複執行的結構。在 Python 中構造循環結構有兩種作法，一種是 for-in 循環， 另一種是 while 循環"
   ]
  },
  {
   "cell_type": "code",
   "execution_count": 4,
   "metadata": {},
   "outputs": [
    {
     "output_type": "stream",
     "name": "stdout",
     "text": [
      "5050\n"
     ]
    }
   ],
   "source": [
    "## for-in 循環\n",
    "### 明確知道循環執行的次數，推薦使用 for-in 循環。\n",
    "\n",
    "\"\"\"\n",
    "用 for 循環 實現 1～100求和\n",
    "\"\"\"\n",
    "total = 0\n",
    "for x in range(1,101):\n",
    "    total += x\n",
    "print(total)\n",
    "\n",
    "### 需要說明的是，上面代碼中的 range（1，101）可以用來構造一個 1 到 100的範圍，當我們把這樣的範圍放到 for-in 循環中，就可以通過前面的循環變量 x 依次取出從 1 到 100 的整數。\n",
    "\n",
    "\"\"\"\n",
    "range(101): 可以用來產生 0 到 100 範圍的整數，需要注意的是取不到 101。\n",
    "range(1,101): 可以用來產生 1 到 100 範圍的整數，相當於前面是閉區間後面是開區間。\n",
    "range(1,101,2): 可以用來產生 1 到 100 的奇數，其中 2 是 步長，即每次數值遞增的值。\n",
    "range(100,0,2): 可以用來產生 100 到 1 的 偶數，其中 -2 是步長，即每次數字遞減的值。\n",
    "\"\"\""
   ]
  },
  {
   "cell_type": "code",
   "execution_count": 5,
   "metadata": {},
   "outputs": [
    {
     "output_type": "stream",
     "name": "stdout",
     "text": [
      "2550\n"
     ]
    }
   ],
   "source": [
    "\"\"\"\n",
    "用 for 循環實現 1～100 之間的偶數求和\n",
    "\"\"\"\n",
    "total = 0\n",
    "for x in range(2,101,2):\n",
    "    total += x\n",
    "print(total)"
   ]
  },
  {
   "cell_type": "code",
   "execution_count": 7,
   "metadata": {},
   "outputs": [
    {
     "output_type": "stream",
     "name": "stdout",
     "text": [
      "大一點\n",
      "大一點\n",
      "大一點\n",
      "小一點\n",
      "小一點\n",
      "大一點\n",
      "恭喜你答對了\n",
      "你總共猜了7\n"
     ]
    }
   ],
   "source": [
    "## while 循環\n",
    "### 如果要構造不知道具體循環次數的循環結構，我們推薦使用 while 循環。while循環通過一個能夠產生或轉換處 bool 值的表達式來控制循環，表達式的值為 False 則結束循環\n",
    "\n",
    "###我們可以透過一個“猜數字”的小遊戲來看看如何使用 while 循環。猜數字的規則是：計算機出一個 1 到 100 之間的隨機數，玩家輸入自己猜的數字，計算機給出對應的提示信息（大一點，小一點或猜對了），如果玩家猜中了數字，計算機提示用戶一共猜了多少次，遊戲結束，否則遊戲繼續\n",
    "\n",
    "\"\"\"\n",
    "猜數字遊戲\n",
    "\"\"\"\n",
    "import random\n",
    "\n",
    "# 產生一個 1-100 範圍的隨機數\n",
    "answer = random.randint(1,100)\n",
    "counter = 0\n",
    "while True:\n",
    "    counter += 1\n",
    "    number = int(input('請輸入:'))\n",
    "    if number < answer:\n",
    "        print('大一點')\n",
    "    elif number > answer:\n",
    "        print('小一點')\n",
    "    else:\n",
    "        print('恭喜你答對了')\n",
    "        break\n",
    "# 當退出 while 循環的時候顯示用戶一共猜了多少次\n",
    "print(f'你總共猜了{counter}')"
   ]
  },
  {
   "cell_type": "code",
   "execution_count": 8,
   "metadata": {},
   "outputs": [],
   "source": [
    "## Break 和 Continue\n",
    "\n",
    "### 上面的代碼中使用 while True 構造了一個條件恆成立的循環，也就是意味著如果不做特殊處理，循環是不會結束的，這也就是常說的‘死循環’。為了在用戶猜中數字時能夠退出循環結構，我們使用了 break 關鍵字，它的作用是提前結束循環。\n",
    "### 需要注意的是，break 只能終止它所在的那個循環，這一點在使用嵌套結構時需要引起注意。\n",
    "### continue: 可以用來放棄本次循環後續的代碼直接讓循環進入下一輪。"
   ]
  },
  {
   "cell_type": "code",
   "execution_count": 19,
   "metadata": {},
   "outputs": [
    {
     "output_type": "stream",
     "name": "stdout",
     "text": [
      "1*1=1\t\n2*1=2\t2*2=4\t\n3*1=3\t3*2=6\t3*3=9\t\n4*1=4\t4*2=8\t4*3=12\t4*4=16\t\n5*1=5\t5*2=10\t5*3=15\t5*4=20\t5*5=25\t\n6*1=6\t6*2=12\t6*3=18\t6*4=24\t6*5=30\t6*6=36\t\n7*1=7\t7*2=14\t7*3=21\t7*4=28\t7*5=35\t7*6=42\t7*7=49\t\n8*1=8\t8*2=16\t8*3=24\t8*4=32\t8*5=40\t8*6=48\t8*7=56\t8*8=64\t\n9*1=9\t9*2=18\t9*3=27\t9*4=36\t9*5=45\t9*6=54\t9*7=63\t9*8=72\t9*9=81\t\n"
     ]
    }
   ],
   "source": [
    "## 嵌套的循環結構\n",
    "\n",
    "### 和分支結構一樣，循環結構也是可以嵌套的，也就是說在循環中還可以構造循環結構(例: 通過嵌套的循環輸出一個乘法口訣表)\n",
    "\"\"\"\n",
    "打印乘法口訣表\n",
    "\"\"\"\n",
    "for i in range(1,10):\n",
    "    for j in range(1,i+1):\n",
    "        print(f'{i}*{j}={i*j}', end='\\t')\n",
    "    print()\n",
    "\n",
    "### 外層循環用來控制一共會產生9行的輸出，而內層循環用來控制每一行輸出多少列。內層循環中的輸出就是九九表一行中的所有列，所以在內層循環完成時，有一個 print()來實現換行輸出的效果"
   ]
  },
  {
   "cell_type": "code",
   "execution_count": 24,
   "metadata": {},
   "outputs": [
    {
     "output_type": "stream",
     "name": "stdout",
     "text": [
      "2是素數\n"
     ]
    }
   ],
   "source": [
    "## 循環的例子\n",
    "\n",
    "### 例子1: 輸入一個正整數判斷它是不是素數\n",
    "#### 素數: 只能被 1 和自身整除的大於 1 的整數。\n",
    "\"\"\"\n",
    "輸入一個正整數判斷它是不是素數\n",
    "\"\"\"\n",
    "num = int(input('請輸入一個正整數:'))\n",
    "end = int(num ** 0.5)\n",
    "is_prime = True\n",
    "for x in range(2,end +1):\n",
    "    if num % x == 0:\n",
    "        is_prime = False\n",
    "        break\n",
    "if is_prime and num !=1:\n",
    "    print(f'{num}是素數')\n",
    "else:\n",
    "    print(f'{num}不是素數')"
   ]
  },
  {
   "cell_type": "code",
   "execution_count": 26,
   "metadata": {},
   "outputs": [
    {
     "output_type": "stream",
     "name": "stdout",
     "text": [
      "2和10的最大公約數是2\n2和10的最小公倍數是10\n"
     ]
    }
   ],
   "source": [
    "### 例子2: 輸入兩個整數，計算它們的最大公約數和最小公倍數\n",
    "#### 兩個數的最大公約數是兩個數的公共因子中最大的數；兩個數的最小公倍數則是能夠同時被兩個數整除的最小的那個數。\n",
    "\"\"\"\n",
    "輸入兩個正整數計算它們的最大公約數和最小公倍數\n",
    "\"\"\"\n",
    "x = int(input('x = '))\n",
    "y = int(input('y = '))\n",
    "if x > y:\n",
    "    x, y = y, x #Python中可以這樣的方式交換兩個變量的值\n",
    "for factor in range(x, 0, -1):\n",
    "    if x % factor == 0 and y % factor == 0:\n",
    "        print(f'{x}和{y}的最大公約數是{factor}')\n",
    "        print(f'{x}和{y}的最小公倍數是{x * y // factor}')\n",
    "        break"
   ]
  },
  {
   "cell_type": "code",
   "execution_count": null,
   "metadata": {},
   "outputs": [],
   "source": [
    "## 簡單的總結\n",
    "\n",
    "### 學會了 Python 中的分支結構和循環結構，我們就可以解決很多實際問題了。\n",
    "### 如果知道循環的次數，我們通常使用 for 循環；如果循環次數不能確定，可以用 while 循環。在循環中還可以使用 break 來提前結束循環。"
   ]
  }
 ]
}